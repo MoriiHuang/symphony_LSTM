{
 "cells": [
  {
   "cell_type": "code",
   "execution_count": 10,
   "metadata": {},
   "outputs": [],
   "source": [
    "import json\n",
    "from collections import Counter\n",
    "from keras.utils import to_categorical\n",
    "import numpy as np\n",
    "def get_data(filename):\n",
    "    with open(filename) as f:\n",
    "        list=json.load(f)\n",
    "    return list\n",
    "def counter(note):\n",
    "    counters=Counter(note)\n",
    "    note_count=sorted(counters.items(),key=lambda x:-x[1])\n",
    "    notes,_=zip(*note_count)\n",
    "    note_to_id={note:id for id,note in enumerate(notes)}\n",
    "    return note_to_id\n",
    "note=get_data('origin.json')\n",
    "fin=counter(note)\n",
    "X_train=[]\n",
    "Y_train=[]\n",
    "sequence_batch=100\n",
    "for i in range(len(note)-sequence_batch):\n",
    "    X_pre=note[i:i+sequence_batch]\n",
    "    Y_pre=note[i+sequence_batch]\n",
    "    X_train.append([fin[note]for note in X_pre])\n",
    "    Y_train.append(fin[Y_pre])\n",
    "X_train=X_train[:10000]\n",
    "Y_train=Y_train[:10000]\n",
    "X_one_hot = to_categorical(X_train)\n",
    "Y_one_hot = to_categorical(Y_train)\n"
   ]
  },
  {
   "cell_type": "code",
   "execution_count": 11,
   "metadata": {},
   "outputs": [
    {
     "name": "stdout",
     "output_type": "stream",
     "text": [
      "Model: \"model_6\"\n",
      "_________________________________________________________________\n",
      "Layer (type)                 Output Shape              Param #   \n",
      "=================================================================\n",
      "input_6 (InputLayer)         (None, 100, 1147)         0         \n",
      "_________________________________________________________________\n",
      "lstm_11 (LSTM)               (None, 100, 512)          3399680   \n",
      "_________________________________________________________________\n",
      "dropout_11 (Dropout)         (None, 100, 512)          0         \n",
      "_________________________________________________________________\n",
      "lstm_12 (LSTM)               (None, 256)               787456    \n",
      "_________________________________________________________________\n",
      "dropout_12 (Dropout)         (None, 256)               0         \n",
      "_________________________________________________________________\n",
      "dense_6 (Dense)              (None, 1147)              294779    \n",
      "=================================================================\n",
      "Total params: 4,481,915\n",
      "Trainable params: 4,481,915\n",
      "Non-trainable params: 0\n",
      "_________________________________________________________________\n"
     ]
    }
   ],
   "source": [
    "import keras\n",
    "from keras.callbacks import ModelCheckpoint\n",
    "from keras.models import Input, Model\n",
    "from keras.layers import  Dropout, Dense,LSTM \n",
    "from keras.optimizers import Adam\n",
    "from keras.utils import plot_model\n",
    "# X_one_hot.shape[1:] = (100, 308)\n",
    "input_tensor = Input(shape=X_one_hot.shape[1:])\n",
    "lstm = LSTM(512,return_sequences=True)(input_tensor)\n",
    "dropout = Dropout(0.3)(lstm)\n",
    "\n",
    "lstm = LSTM(256)(dropout)\n",
    "dropout = Dropout(0.3)(lstm)\n",
    "dense = Dense(Y_one_hot.shape[-1], activation='softmax')(dropout)\n",
    "\n",
    "model = Model(inputs=input_tensor, outputs=dense)\n",
    "optimizer = Adam(lr=0.001)\n",
    "model.compile(loss='categorical_crossentropy', optimizer=optimizer, metrics=['accuracy'])\n",
    "model.summary()\n"
   ]
  },
  {
   "cell_type": "code",
   "execution_count": 12,
   "metadata": {},
   "outputs": [
    {
     "name": "stdout",
     "output_type": "stream",
     "text": [
      "Epoch 1/20\n",
      "10000/10000 [==============================] - 355s 35ms/step - loss: 6.9786 - accuracy: 0.0141\n",
      "Epoch 2/20\n",
      "10000/10000 [==============================] - 367s 37ms/step - loss: 5.9972 - accuracy: 0.0178\n",
      "Epoch 3/20\n",
      " 6144/10000 [=================>............] - ETA: 2:37 - loss: 5.3634 - accuracy: 0.0184"
     ]
    }
   ],
   "source": [
    "filepath = \"./{epoch}--weights{loss:.2f}.hdf5\"\n",
    "checkpoint = ModelCheckpoint(\n",
    "    filepath,\n",
    "    monitor='loss',\n",
    "    verbose=0,\n",
    "    save_best_only=True,\n",
    "    mode='min'\n",
    ")\n",
    "callbacks_list = [checkpoint]\n",
    "model.fit(X_one_hot, Y_one_hot, epochs=20, batch_size=2048,callbacks=callbacks_list)"
   ]
  }
 ],
 "metadata": {
  "kernelspec": {
   "display_name": "Python 3.7.13 64-bit ('tensorflow_py37')",
   "language": "python",
   "name": "python3"
  },
  "language_info": {
   "codemirror_mode": {
    "name": "ipython",
    "version": 3
   },
   "file_extension": ".py",
   "mimetype": "text/x-python",
   "name": "python",
   "nbconvert_exporter": "python",
   "pygments_lexer": "ipython3",
   "version": "3.7.13"
  },
  "orig_nbformat": 4,
  "vscode": {
   "interpreter": {
    "hash": "b946cbaf1887f3ac63f18e95e7d47991a7bd26ae3929f5b6525a2cbd7f2cdd55"
   }
  }
 },
 "nbformat": 4,
 "nbformat_minor": 2
}
